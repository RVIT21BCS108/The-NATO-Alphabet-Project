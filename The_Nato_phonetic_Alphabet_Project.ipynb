{
  "nbformat": 4,
  "nbformat_minor": 0,
  "metadata": {
    "colab": {
      "provenance": []
    },
    "kernelspec": {
      "name": "python3",
      "display_name": "Python 3"
    },
    "language_info": {
      "name": "python"
    }
  },
  "cells": [
    {
      "cell_type": "code",
      "execution_count": 2,
      "metadata": {
        "colab": {
          "base_uri": "https://localhost:8080/"
        },
        "id": "kPL7JHtE0Q0L",
        "outputId": "421a4ff4-2c43-466b-b42c-51e3edcc3c0e"
      },
      "outputs": [
        {
          "output_type": "stream",
          "name": "stdout",
          "text": [
            "{'A': 'Alfa', 'B': 'Bravo', 'C': 'Charlie', 'D': 'Delta', 'E': 'Echo', 'F': 'Foxtrot', 'G': 'Golf', 'H': 'Hotel', 'I': 'India', 'J': 'Juliet', 'K': 'Kilo', 'L': 'Lima', 'M': 'Mike', 'N': 'November', 'O': 'Oscar', 'P': 'Papa', 'Q': 'Quebec', 'R': 'Romeo', 'S': 'Sierra', 'T': 'Tango', 'U': 'Uniform', 'V': 'Victor', 'W': 'Whiskey', 'X': 'X-ray', 'Y': 'Yankee', 'Z': 'Zulu'}\n",
            "Enter a word: Angela\n",
            "['Alfa', 'November', 'Golf', 'Echo', 'Lima', 'Alfa']\n"
          ]
        }
      ],
      "source": [
        "# ist upload nato_phonetic_alphabet.csv in colab\n",
        "import pandas\n",
        "\n",
        "data = pandas.read_csv(\"nato_phonetic_alphabet.csv\")\n",
        "phonetic_dict = {row.letter: row.code for (index, row) in data.iterrows()} # create a dictionary ist which has each letter as key and the corresponding nato alphabet as value\n",
        "print(phonetic_dict)\n",
        "word = input(\"Enter a word: \").upper() # user enter data\n",
        "output_list = [phonetic_dict[letter] for letter in word] # list of nato alphabets for each letter in input\n",
        "print(output_list)"
      ]
    }
  ]
}